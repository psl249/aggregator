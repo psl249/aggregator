{
  "nbformat": 4,
  "nbformat_minor": 0,
  "metadata": {
    "colab": {
      "provenance": [],
      "authorship_tag": "ABX9TyORxE9nrJFnhViaVcvKJnPA",
      "include_colab_link": true
    },
    "kernelspec": {
      "name": "python3",
      "display_name": "Python 3"
    },
    "language_info": {
      "name": "python"
    }
  },
  "cells": [
    {
      "cell_type": "markdown",
      "metadata": {
        "id": "view-in-github",
        "colab_type": "text"
      },
      "source": [
        "<a href=\"https://colab.research.google.com/github/psl249/aggregator/blob/main/colab%E5%86%85%E6%90%AD%E5%BB%BAvpn.ipynb\" target=\"_parent\"><img src=\"https://colab.research.google.com/assets/colab-badge.svg\" alt=\"Open In Colab\"/></a>"
      ]
    },
    {
      "cell_type": "markdown",
      "source": [
        "来源：https://kjgx668.blogspot.com/2025/03/colabvpnyoutube8kkbpsgptv2rayclashsingox.html"
      ],
      "metadata": {
        "id": "pA5gchhlnj3J"
      }
    },
    {
      "cell_type": "markdown",
      "source": [
        "运行以下命令以克隆项目仓库"
      ],
      "metadata": {
        "id": "DUqXjL47nZ7R"
      }
    },
    {
      "cell_type": "code",
      "source": [
        "!git clone https://github.com/wzdnzd/aggregator.git\n"
      ],
      "metadata": {
        "id": "bGcvP-35nqOA"
      },
      "execution_count": null,
      "outputs": []
    },
    {
      "cell_type": "markdown",
      "source": [
        "进入克隆的项目目录，安装项目所需的 Python 依赖项：​\n",
        "\n"
      ],
      "metadata": {
        "id": "th_PEuvSnutJ"
      }
    },
    {
      "cell_type": "code",
      "source": [
        "%cd aggregator"
      ],
      "metadata": {
        "id": "WqOQRQwmn3ZO"
      },
      "execution_count": null,
      "outputs": []
    },
    {
      "cell_type": "code",
      "source": [
        "!pip install -r requirements.txt"
      ],
      "metadata": {
        "id": "nRcdtq_xn6y0"
      },
      "execution_count": null,
      "outputs": []
    },
    {
      "cell_type": "markdown",
      "source": [
        "在 Colab 中，使用以下命令运行 process.py 脚本："
      ],
      "metadata": {
        "id": "lKSRpO9sn-Cs"
      }
    },
    {
      "cell_type": "code",
      "source": [
        "!python -u subscribe/collect.py -s"
      ],
      "metadata": {
        "id": "AZGTAiqzoCjI"
      },
      "execution_count": null,
      "outputs": []
    },
    {
      "cell_type": "markdown",
      "source": [
        "查看节点文件："
      ],
      "metadata": {
        "id": "AtODHRqpoFtE"
      }
    },
    {
      "cell_type": "code",
      "source": [
        "!cat /content/aggregator/data/clash.yaml"
      ],
      "metadata": {
        "id": "sdVSFhHnoK7S"
      },
      "execution_count": null,
      "outputs": []
    },
    {
      "cell_type": "markdown",
      "source": [
        "下载节点文件："
      ],
      "metadata": {
        "id": "OrjrCWtWoQIA"
      }
    },
    {
      "cell_type": "code",
      "source": [
        "from google.colab import files\n",
        "files.download('/content/aggregator/data/clash.yaml')"
      ],
      "metadata": {
        "id": "Vi71nGruoTug"
      },
      "execution_count": null,
      "outputs": []
    },
    {
      "cell_type": "code",
      "source": [],
      "metadata": {
        "id": "ASrWY_UwnuF4"
      },
      "execution_count": null,
      "outputs": []
    }
  ]
}